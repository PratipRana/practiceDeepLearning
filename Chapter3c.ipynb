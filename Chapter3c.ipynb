{
 "cells": [
  {
   "cell_type": "code",
   "execution_count": 1,
   "metadata": {},
   "outputs": [
    {
     "name": "stderr",
     "output_type": "stream",
     "text": [
      "Using TensorFlow backend.\n"
     ]
    },
    {
     "data": {
      "text/plain": [
       "'2.2.4'"
      ]
     },
     "execution_count": 1,
     "metadata": {},
     "output_type": "execute_result"
    }
   ],
   "source": [
    "import keras\n",
    "keras.__version__"
   ]
  },
  {
   "cell_type": "code",
   "execution_count": 2,
   "metadata": {},
   "outputs": [],
   "source": [
    "from keras.datasets import boston_housing\n",
    "(train_data, train_targets), (test_data, test_targets) =  boston_housing.load_data()"
   ]
  },
  {
   "cell_type": "code",
   "execution_count": 3,
   "metadata": {},
   "outputs": [
    {
     "data": {
      "text/plain": [
       "(404, 13)"
      ]
     },
     "execution_count": 3,
     "metadata": {},
     "output_type": "execute_result"
    }
   ],
   "source": [
    "train_data.shape"
   ]
  },
  {
   "cell_type": "code",
   "execution_count": 6,
   "metadata": {},
   "outputs": [
    {
     "name": "stdout",
     "output_type": "stream",
     "text": [
      "[  1.23247   0.        8.14      0.        0.538     6.142    91.7\n",
      "   3.9769    4.      307.       21.      396.9      18.72   ] \n",
      " 15.2\n"
     ]
    }
   ],
   "source": [
    "print(train_data[0],'\\n', train_targets[0])"
   ]
  },
  {
   "cell_type": "markdown",
   "metadata": {},
   "source": [
    "# Preparing the data"
   ]
  },
  {
   "cell_type": "code",
   "execution_count": 7,
   "metadata": {},
   "outputs": [],
   "source": [
    "mean = train_data.mean(axis=0)\n",
    "train_data -= mean\n",
    "std = train_data.std(axis=0)\n",
    "train_data /= std\n",
    "\n",
    "test_data -= mean\n",
    "test_data /= std"
   ]
  },
  {
   "cell_type": "markdown",
   "metadata": {},
   "source": [
    "# Building network"
   ]
  },
  {
   "cell_type": "code",
   "execution_count": 8,
   "metadata": {},
   "outputs": [],
   "source": [
    "from keras import models\n",
    "from keras import layers    "
   ]
  },
  {
   "cell_type": "code",
   "execution_count": 15,
   "metadata": {},
   "outputs": [],
   "source": [
    "def build_model():\n",
    "    model = models.Sequential()\n",
    "    model.add(layers.Dense(64, activation = 'relu', input_shape=(train_data.shape[1],)))\n",
    "    model.add(layers.Dense(64, activation='relu'))\n",
    "    model.add(layers.Dense(1))\n",
    "    model.compile(optimizer='rmsprop', loss='mse', metrics=['mae'])\n",
    "    return model"
   ]
  },
  {
   "cell_type": "code",
   "execution_count": 18,
   "metadata": {},
   "outputs": [],
   "source": [
    "num_epochs = 100\n",
    "model = build_model()\n",
    "history = model.fit(train_data, train_targets, epochs=num_epochs, batch_size=1, verbose=0)"
   ]
  },
  {
   "cell_type": "code",
   "execution_count": 19,
   "metadata": {},
   "outputs": [
    {
     "data": {
      "text/plain": [
       "{'loss': [170.8235012603114,\n",
       "  23.9178315964991,\n",
       "  18.49255056773638,\n",
       "  15.464263814737789,\n",
       "  14.284531325794447,\n",
       "  12.434553716649061,\n",
       "  12.010943956181523,\n",
       "  11.996551729882395,\n",
       "  11.434464413879079,\n",
       "  10.722745206410908,\n",
       "  10.372225574210514,\n",
       "  10.626270476816034,\n",
       "  10.219814110670717,\n",
       "  10.021720532338696,\n",
       "  10.02717601820247,\n",
       "  9.37619771368756,\n",
       "  9.2833580497922,\n",
       "  9.473459479436558,\n",
       "  9.11160145867207,\n",
       "  8.960503373066281,\n",
       "  8.653384624642841,\n",
       "  8.903288706635832,\n",
       "  8.478339256650866,\n",
       "  8.699054471015998,\n",
       "  8.278768229524676,\n",
       "  8.159334754332987,\n",
       "  8.221286901148241,\n",
       "  8.151084053114186,\n",
       "  7.830079010527049,\n",
       "  7.890284537289022,\n",
       "  7.725563180120232,\n",
       "  7.630956945908471,\n",
       "  7.928487504902765,\n",
       "  7.577985601065506,\n",
       "  7.333630393631093,\n",
       "  7.275474307968967,\n",
       "  6.982982550083276,\n",
       "  7.401130197855723,\n",
       "  7.035051044211619,\n",
       "  6.601637412508227,\n",
       "  6.874386879783914,\n",
       "  6.577931231346841,\n",
       "  6.735870583837714,\n",
       "  6.737797510623885,\n",
       "  6.750902633004624,\n",
       "  6.228101502718121,\n",
       "  6.314256364523173,\n",
       "  6.526008999163306,\n",
       "  6.263657012153747,\n",
       "  6.182529823813323,\n",
       "  5.595929071120682,\n",
       "  5.904073458466648,\n",
       "  6.342781239460246,\n",
       "  6.257759450859276,\n",
       "  6.017186117723825,\n",
       "  5.865074448683424,\n",
       "  5.884818194367951,\n",
       "  5.476591618469864,\n",
       "  5.91693561105995,\n",
       "  5.7339017976373094,\n",
       "  5.652468104679716,\n",
       "  5.184940254716956,\n",
       "  5.712823072141531,\n",
       "  5.25625064375387,\n",
       "  5.464999396800063,\n",
       "  5.441791631252913,\n",
       "  5.212927828403997,\n",
       "  5.452421769947799,\n",
       "  5.245304002280649,\n",
       "  5.429387317550065,\n",
       "  5.271809271524098,\n",
       "  5.2915023703241095,\n",
       "  5.022954084493643,\n",
       "  4.824502791721359,\n",
       "  5.064440595875081,\n",
       "  4.703625968803421,\n",
       "  4.8031671896120445,\n",
       "  4.749078823437581,\n",
       "  4.809914982105025,\n",
       "  4.9054509243568925,\n",
       "  4.598719774505568,\n",
       "  5.0237711033660455,\n",
       "  4.576072377321754,\n",
       "  4.351719438760204,\n",
       "  4.902951764484473,\n",
       "  4.613150841310622,\n",
       "  4.433462858101524,\n",
       "  4.4920459223558105,\n",
       "  4.340441681592109,\n",
       "  4.359095424242543,\n",
       "  4.308397085343149,\n",
       "  4.216168097118939,\n",
       "  4.071606901793007,\n",
       "  4.155334519149603,\n",
       "  4.613706017906414,\n",
       "  3.9776779844083956,\n",
       "  3.8714201472363885,\n",
       "  4.267068297518724,\n",
       "  4.100173551408361,\n",
       "  4.025076521735866],\n",
       " 'mean_absolute_error': [9.382075823179566,\n",
       "  3.3192861977190073,\n",
       "  2.9327569267537332,\n",
       "  2.6761407108590154,\n",
       "  2.555880029602806,\n",
       "  2.4047068369270552,\n",
       "  2.370137842574922,\n",
       "  2.3289422823651003,\n",
       "  2.2814635404265755,\n",
       "  2.1944988824353358,\n",
       "  2.2451929656585845,\n",
       "  2.131512506173389,\n",
       "  2.1671510214852816,\n",
       "  2.169250727880119,\n",
       "  2.088391639218472,\n",
       "  2.0502598675170747,\n",
       "  2.0382797694442294,\n",
       "  2.0497645387555115,\n",
       "  2.0257029852064528,\n",
       "  1.9834702085740497,\n",
       "  1.9516491878150712,\n",
       "  1.9387755653645733,\n",
       "  1.9675822918958004,\n",
       "  1.9381125315581218,\n",
       "  1.9506843137268972,\n",
       "  1.9093676463212117,\n",
       "  1.9230796795080203,\n",
       "  1.885454258116165,\n",
       "  1.8824124371651376,\n",
       "  1.9144377814661158,\n",
       "  1.851252280839599,\n",
       "  1.8758394588338267,\n",
       "  1.836473298544931,\n",
       "  1.8178183524915488,\n",
       "  1.8239320870673303,\n",
       "  1.7453012808714763,\n",
       "  1.75641663475792,\n",
       "  1.8556098619309982,\n",
       "  1.7623381260598059,\n",
       "  1.7345667794199273,\n",
       "  1.7667652569194832,\n",
       "  1.6836414703048102,\n",
       "  1.7164612300325148,\n",
       "  1.735153343417857,\n",
       "  1.7286558434514716,\n",
       "  1.6716537652629437,\n",
       "  1.6904653298972856,\n",
       "  1.7140917600971637,\n",
       "  1.6695099903805422,\n",
       "  1.6423572419893624,\n",
       "  1.6606509697319258,\n",
       "  1.636306919673882,\n",
       "  1.5944608249286614,\n",
       "  1.6151723956117536,\n",
       "  1.5770234884602008,\n",
       "  1.6125337546414669,\n",
       "  1.6515304747194346,\n",
       "  1.5467623779089144,\n",
       "  1.5871829868543266,\n",
       "  1.5569173900207671,\n",
       "  1.5527932218985983,\n",
       "  1.5580962790120947,\n",
       "  1.5717328055070179,\n",
       "  1.4965380288586758,\n",
       "  1.5879110215914132,\n",
       "  1.5780281040928152,\n",
       "  1.5226071978559588,\n",
       "  1.5150403020405534,\n",
       "  1.5500395168172252,\n",
       "  1.5328471743234313,\n",
       "  1.4957658430137257,\n",
       "  1.528429342968629,\n",
       "  1.4824519676737267,\n",
       "  1.4834201182469282,\n",
       "  1.4208468127958844,\n",
       "  1.4853261130871158,\n",
       "  1.4732680096484647,\n",
       "  1.450573496299215,\n",
       "  1.4424025552107556,\n",
       "  1.4712539144081644,\n",
       "  1.4670789914556068,\n",
       "  1.4751894568452741,\n",
       "  1.430991823130315,\n",
       "  1.4433316216610446,\n",
       "  1.4516692185165858,\n",
       "  1.412355656671052,\n",
       "  1.4272699946224099,\n",
       "  1.4036725889338124,\n",
       "  1.4063063057342378,\n",
       "  1.3619578238761072,\n",
       "  1.3988720001560626,\n",
       "  1.4104222743818076,\n",
       "  1.3963794082698255,\n",
       "  1.3549363412479363,\n",
       "  1.411002234657212,\n",
       "  1.334774151887044,\n",
       "  1.3599419345950137,\n",
       "  1.3848049380991718,\n",
       "  1.3827560573521227,\n",
       "  1.3459924459457397]}"
      ]
     },
     "execution_count": 19,
     "metadata": {},
     "output_type": "execute_result"
    }
   ],
   "source": [
    "history.history"
   ]
  },
  {
   "cell_type": "code",
   "execution_count": 20,
   "metadata": {},
   "outputs": [
    {
     "name": "stdout",
     "output_type": "stream",
     "text": [
      "processing fold # 0\n",
      "processing fold # 1\n",
      "processing fold # 2\n",
      "processing fold # 3\n"
     ]
    }
   ],
   "source": [
    "import numpy as np\n",
    "\n",
    "k = 4\n",
    "num_val_samples = len(train_data) // k\n",
    "num_epochs = 100\n",
    "all_scores = []\n",
    "for i in range(k):\n",
    "    print('processing fold #', i)\n",
    "    # Prepare the validation data: data from partition # k\n",
    "    val_data = train_data[i * num_val_samples: (i + 1) * num_val_samples]\n",
    "    val_targets = train_targets[i * num_val_samples: (i + 1) * num_val_samples]\n",
    "\n",
    "    # Prepare the training data: data from all other partitions\n",
    "    partial_train_data = np.concatenate(\n",
    "        [train_data[:i * num_val_samples],\n",
    "         train_data[(i + 1) * num_val_samples:]],\n",
    "        axis=0)\n",
    "    partial_train_targets = np.concatenate(\n",
    "        [train_targets[:i * num_val_samples],\n",
    "         train_targets[(i + 1) * num_val_samples:]],\n",
    "        axis=0)\n",
    "\n",
    "    # Build the Keras model (already compiled)\n",
    "    model = build_model()\n",
    "    # Train the model (in silent mode, verbose=0)\n",
    "    model.fit(partial_train_data, partial_train_targets,\n",
    "              epochs=num_epochs, batch_size=1, verbose=0)\n",
    "    # Evaluate the model on the validation data\n",
    "    val_mse, val_mae = model.evaluate(val_data, val_targets, verbose=0)\n",
    "    all_scores.append(val_mae)"
   ]
  },
  {
   "cell_type": "code",
   "execution_count": 21,
   "metadata": {},
   "outputs": [
    {
     "data": {
      "text/plain": [
       "[1.8006188798658918,\n",
       " 2.3929606853145184,\n",
       " 2.6379584026808787,\n",
       " 2.5337753649985437]"
      ]
     },
     "execution_count": 21,
     "metadata": {},
     "output_type": "execute_result"
    }
   ],
   "source": [
    "all_scores"
   ]
  },
  {
   "cell_type": "code",
   "execution_count": 22,
   "metadata": {},
   "outputs": [],
   "source": [
    "test_mse, test_mae = model.evaluate(test_data, test_targets, verbose=0)"
   ]
  },
  {
   "cell_type": "code",
   "execution_count": 24,
   "metadata": {},
   "outputs": [
    {
     "data": {
      "text/plain": [
       "3.0786366182215072"
      ]
     },
     "execution_count": 24,
     "metadata": {},
     "output_type": "execute_result"
    }
   ],
   "source": [
    "test_mae"
   ]
  },
  {
   "cell_type": "code",
   "execution_count": null,
   "metadata": {},
   "outputs": [],
   "source": []
  }
 ],
 "metadata": {
  "kernelspec": {
   "display_name": "Python 3",
   "language": "python",
   "name": "python3"
  },
  "language_info": {
   "codemirror_mode": {
    "name": "ipython",
    "version": 3
   },
   "file_extension": ".py",
   "mimetype": "text/x-python",
   "name": "python",
   "nbconvert_exporter": "python",
   "pygments_lexer": "ipython3",
   "version": "3.6.8"
  }
 },
 "nbformat": 4,
 "nbformat_minor": 2
}

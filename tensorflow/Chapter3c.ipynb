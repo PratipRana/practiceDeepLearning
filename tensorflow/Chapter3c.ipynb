{
 "cells": [
  {
   "cell_type": "code",
   "execution_count": 1,
   "metadata": {},
   "outputs": [
    {
     "name": "stderr",
     "output_type": "stream",
     "text": [
      "Using TensorFlow backend.\n"
     ]
    },
    {
     "data": {
      "text/plain": [
       "'2.2.4'"
      ]
     },
     "execution_count": 1,
     "metadata": {},
     "output_type": "execute_result"
    }
   ],
   "source": [
    "import keras\n",
    "keras.__version__"
   ]
  },
  {
   "cell_type": "code",
   "execution_count": 2,
   "metadata": {},
   "outputs": [],
   "source": [
    "from keras.datasets import boston_housing\n",
    "(train_data, train_targets), (test_data, test_targets) =  boston_housing.load_data()"
   ]
  },
  {
   "cell_type": "code",
   "execution_count": 3,
   "metadata": {},
   "outputs": [
    {
     "data": {
      "text/plain": [
       "(404, 13)"
      ]
     },
     "execution_count": 3,
     "metadata": {},
     "output_type": "execute_result"
    }
   ],
   "source": [
    "train_data.shape"
   ]
  },
  {
   "cell_type": "code",
   "execution_count": 4,
   "metadata": {},
   "outputs": [
    {
     "name": "stdout",
     "output_type": "stream",
     "text": [
      "[  1.23247   0.        8.14      0.        0.538     6.142    91.7\n",
      "   3.9769    4.      307.       21.      396.9      18.72   ] \n",
      " 15.2\n"
     ]
    }
   ],
   "source": [
    "print(train_data[0],'\\n', train_targets[0])"
   ]
  },
  {
   "cell_type": "markdown",
   "metadata": {},
   "source": [
    "# Preparing the data"
   ]
  },
  {
   "cell_type": "code",
   "execution_count": 5,
   "metadata": {},
   "outputs": [],
   "source": [
    "mean = train_data.mean(axis=0)\n",
    "train_data -= mean\n",
    "std = train_data.std(axis=0)\n",
    "train_data /= std\n",
    "\n",
    "test_data -= mean\n",
    "test_data /= std"
   ]
  },
  {
   "cell_type": "markdown",
   "metadata": {},
   "source": [
    "# Building network"
   ]
  },
  {
   "cell_type": "code",
   "execution_count": 6,
   "metadata": {},
   "outputs": [],
   "source": [
    "from keras import models\n",
    "from keras import layers    "
   ]
  },
  {
   "cell_type": "code",
   "execution_count": 7,
   "metadata": {},
   "outputs": [],
   "source": [
    "def build_model():\n",
    "    model = models.Sequential()\n",
    "    model.add(layers.Dense(64, activation = 'relu', input_shape=(train_data.shape[1],)))\n",
    "    model.add(layers.Dense(64, activation='relu'))\n",
    "    model.add(layers.Dense(1))\n",
    "    model.compile(optimizer='rmsprop', loss='mse', metrics=['mae'])\n",
    "    return model"
   ]
  },
  {
   "cell_type": "code",
   "execution_count": 8,
   "metadata": {},
   "outputs": [
    {
     "name": "stdout",
     "output_type": "stream",
     "text": [
      "WARNING:tensorflow:From /home/ranap/anaconda3/envs/PythonGPU/lib/python3.6/site-packages/tensorflow/python/framework/op_def_library.py:263: colocate_with (from tensorflow.python.framework.ops) is deprecated and will be removed in a future version.\n",
      "Instructions for updating:\n",
      "Colocations handled automatically by placer.\n",
      "WARNING:tensorflow:From /home/ranap/anaconda3/envs/PythonGPU/lib/python3.6/site-packages/tensorflow/python/ops/math_ops.py:3066: to_int32 (from tensorflow.python.ops.math_ops) is deprecated and will be removed in a future version.\n",
      "Instructions for updating:\n",
      "Use tf.cast instead.\n"
     ]
    }
   ],
   "source": [
    "num_epochs = 100\n",
    "model = build_model()\n",
    "history = model.fit(train_data, train_targets, epochs=num_epochs, batch_size=1, verbose=0)"
   ]
  },
  {
   "cell_type": "code",
   "execution_count": 9,
   "metadata": {},
   "outputs": [
    {
     "data": {
      "text/plain": [
       "{'loss': [179.82141040890744,\n",
       "  24.875692546261604,\n",
       "  17.760219014171362,\n",
       "  16.222692792589353,\n",
       "  14.25547384306423,\n",
       "  12.936025748359084,\n",
       "  12.328134635892386,\n",
       "  11.906036408585116,\n",
       "  11.471945040046402,\n",
       "  10.69320175200641,\n",
       "  10.57512204796444,\n",
       "  10.335403223074302,\n",
       "  10.174227328070007,\n",
       "  10.177753176740765,\n",
       "  9.511339016046596,\n",
       "  9.094737938312013,\n",
       "  9.003402227110731,\n",
       "  8.928268854072899,\n",
       "  8.7566713522429,\n",
       "  8.3780148575561,\n",
       "  8.59979245804079,\n",
       "  8.321096509081748,\n",
       "  8.146922075596168,\n",
       "  8.408186755303213,\n",
       "  8.042902810650247,\n",
       "  7.832312502652715,\n",
       "  7.5028453742865135,\n",
       "  7.704706608758537,\n",
       "  7.576761815066468,\n",
       "  7.556059518211729,\n",
       "  7.3380811300089,\n",
       "  6.989057322393567,\n",
       "  7.534004555627743,\n",
       "  6.92387664579607,\n",
       "  6.9820710821276775,\n",
       "  6.75659239368835,\n",
       "  6.959890252248226,\n",
       "  6.788785651903826,\n",
       "  6.2449542497653585,\n",
       "  6.712389097512047,\n",
       "  6.363690684752058,\n",
       "  6.502335414460297,\n",
       "  5.967011392960468,\n",
       "  6.180739180900243,\n",
       "  6.284550975189938,\n",
       "  6.126997411946507,\n",
       "  6.1966751507961995,\n",
       "  5.779302535007302,\n",
       "  6.088327482917494,\n",
       "  5.3939353170872995,\n",
       "  5.693056082909319,\n",
       "  5.806731027662584,\n",
       "  5.8247754821515425,\n",
       "  5.633974836557542,\n",
       "  5.459335725657616,\n",
       "  5.839525784431532,\n",
       "  5.377485520650586,\n",
       "  5.320089706175591,\n",
       "  5.297454564565426,\n",
       "  5.398673127000053,\n",
       "  5.220700915560856,\n",
       "  5.152508515407396,\n",
       "  5.2248223841945745,\n",
       "  4.804984250492011,\n",
       "  5.158157786071903,\n",
       "  5.0932973763385485,\n",
       "  4.503896791802959,\n",
       "  5.086142088822406,\n",
       "  4.953979201245232,\n",
       "  4.580761830901856,\n",
       "  4.817738891204868,\n",
       "  4.405459584083086,\n",
       "  4.727664364412973,\n",
       "  4.828756935383095,\n",
       "  4.648334598156953,\n",
       "  4.589854341672192,\n",
       "  4.485478744040316,\n",
       "  4.473790839921591,\n",
       "  4.448760221402543,\n",
       "  4.304224990619548,\n",
       "  4.128567051074701,\n",
       "  4.2435254703752685,\n",
       "  4.190122121042823,\n",
       "  4.372209374617117,\n",
       "  4.16405925793054,\n",
       "  4.297657521932238,\n",
       "  4.10617028836314,\n",
       "  3.89899729301969,\n",
       "  4.2583054048206606,\n",
       "  4.0347792859572404,\n",
       "  3.8893157943983456,\n",
       "  4.031096911566877,\n",
       "  3.997377032567198,\n",
       "  4.040920802135138,\n",
       "  3.99181005334996,\n",
       "  3.706867898253276,\n",
       "  3.834174811022226,\n",
       "  3.826156296125137,\n",
       "  4.052954646337846,\n",
       "  3.980017152719997],\n",
       " 'mean_absolute_error': [9.554206248557213,\n",
       "  3.407508092351479,\n",
       "  2.9024630950229002,\n",
       "  2.667760935750338,\n",
       "  2.4977811645753314,\n",
       "  2.4275493692643573,\n",
       "  2.3830480481138325,\n",
       "  2.2999712653679425,\n",
       "  2.2509638850051576,\n",
       "  2.180057426490406,\n",
       "  2.157580602287066,\n",
       "  2.1989763839410084,\n",
       "  2.176341383764059,\n",
       "  2.061546228899814,\n",
       "  2.0616870516597636,\n",
       "  2.0016744172219,\n",
       "  2.0147604470205778,\n",
       "  1.9613502733778245,\n",
       "  1.965111265088072,\n",
       "  1.8884825246168835,\n",
       "  1.9875970831011782,\n",
       "  1.9106416472113958,\n",
       "  1.8921910547974086,\n",
       "  1.926854929121414,\n",
       "  1.8488473248953867,\n",
       "  1.8214795382896272,\n",
       "  1.7908627337748462,\n",
       "  1.887383459818245,\n",
       "  1.836167538520133,\n",
       "  1.813744334891291,\n",
       "  1.7474850475197972,\n",
       "  1.7650696747373826,\n",
       "  1.833940605125805,\n",
       "  1.7215440769006711,\n",
       "  1.8019119536522592,\n",
       "  1.7417085536635748,\n",
       "  1.7812636181859687,\n",
       "  1.6927672010837216,\n",
       "  1.6887690572455378,\n",
       "  1.703875148650443,\n",
       "  1.6986617876751589,\n",
       "  1.6683060025224592,\n",
       "  1.7088828299305228,\n",
       "  1.6947882393799205,\n",
       "  1.6616817901630212,\n",
       "  1.6383219013119688,\n",
       "  1.657145581623115,\n",
       "  1.6229355948986393,\n",
       "  1.6310732028271893,\n",
       "  1.5372920827110215,\n",
       "  1.618407151486614,\n",
       "  1.5845195845802231,\n",
       "  1.612001878200191,\n",
       "  1.6125399198862587,\n",
       "  1.543375798381201,\n",
       "  1.6588951349258423,\n",
       "  1.5908374821785654,\n",
       "  1.5601797186502135,\n",
       "  1.5615515036158043,\n",
       "  1.5998601234785401,\n",
       "  1.5724735130177867,\n",
       "  1.491620162926098,\n",
       "  1.546017348766327,\n",
       "  1.5351733824994305,\n",
       "  1.5684938224235383,\n",
       "  1.5563128065354754,\n",
       "  1.5024075307468376,\n",
       "  1.5092361185810355,\n",
       "  1.4981883752464067,\n",
       "  1.4137763800007281,\n",
       "  1.5441403483400251,\n",
       "  1.4447878180163922,\n",
       "  1.4990498323251706,\n",
       "  1.477146049537281,\n",
       "  1.4716224227801409,\n",
       "  1.4822805258307126,\n",
       "  1.4171850563275932,\n",
       "  1.461725141742442,\n",
       "  1.442970308927026,\n",
       "  1.4198380921146658,\n",
       "  1.3929627590840405,\n",
       "  1.4080519487362098,\n",
       "  1.421569592881911,\n",
       "  1.4332173472583885,\n",
       "  1.356517447103368,\n",
       "  1.4637581829977508,\n",
       "  1.4041763012952144,\n",
       "  1.3841002978900872,\n",
       "  1.435742432528203,\n",
       "  1.3780815483319877,\n",
       "  1.3707684502743258,\n",
       "  1.3849591500688307,\n",
       "  1.3003142847873197,\n",
       "  1.3773765634782245,\n",
       "  1.3574393137846843,\n",
       "  1.3507007224725025,\n",
       "  1.389266032983761,\n",
       "  1.3460970042955758,\n",
       "  1.3902172145276968,\n",
       "  1.3187770513024661]}"
      ]
     },
     "execution_count": 9,
     "metadata": {},
     "output_type": "execute_result"
    }
   ],
   "source": [
    "history.history"
   ]
  },
  {
   "cell_type": "code",
   "execution_count": 10,
   "metadata": {},
   "outputs": [
    {
     "name": "stdout",
     "output_type": "stream",
     "text": [
      "processing fold # 0\n",
      "processing fold # 1\n",
      "processing fold # 2\n",
      "processing fold # 3\n"
     ]
    }
   ],
   "source": [
    "import numpy as np\n",
    "\n",
    "k = 4\n",
    "num_val_samples = len(train_data) // k\n",
    "num_epochs = 100\n",
    "all_scores = []\n",
    "for i in range(k):\n",
    "    print('processing fold #', i)\n",
    "    # Prepare the validation data: data from partition # k\n",
    "    val_data = train_data[i * num_val_samples: (i + 1) * num_val_samples]\n",
    "    val_targets = train_targets[i * num_val_samples: (i + 1) * num_val_samples]\n",
    "\n",
    "    # Prepare the training data: data from all other partitions\n",
    "    partial_train_data = np.concatenate(\n",
    "        [train_data[:i * num_val_samples],\n",
    "         train_data[(i + 1) * num_val_samples:]],\n",
    "        axis=0)\n",
    "    partial_train_targets = np.concatenate(\n",
    "        [train_targets[:i * num_val_samples],\n",
    "         train_targets[(i + 1) * num_val_samples:]],\n",
    "        axis=0)\n",
    "\n",
    "    # Build the Keras model (already compiled)\n",
    "    model = build_model()\n",
    "    # Train the model (in silent mode, verbose=0)\n",
    "    model.fit(partial_train_data, partial_train_targets,\n",
    "              epochs=num_epochs, batch_size=1, verbose=0)\n",
    "    # Evaluate the model on the validation data\n",
    "    val_mse, val_mae = model.evaluate(val_data, val_targets, verbose=0)\n",
    "    all_scores.append(val_mae)"
   ]
  },
  {
   "cell_type": "code",
   "execution_count": 11,
   "metadata": {},
   "outputs": [
    {
     "data": {
      "text/plain": [
       "[2.0758312574707634, 2.3295178555025915, 2.489146102773081, 2.768011015240509]"
      ]
     },
     "execution_count": 11,
     "metadata": {},
     "output_type": "execute_result"
    }
   ],
   "source": [
    "all_scores"
   ]
  },
  {
   "cell_type": "code",
   "execution_count": 12,
   "metadata": {},
   "outputs": [],
   "source": [
    "test_mse, test_mae = model.evaluate(test_data, test_targets, verbose=0)"
   ]
  },
  {
   "cell_type": "code",
   "execution_count": 13,
   "metadata": {},
   "outputs": [
    {
     "data": {
      "text/plain": [
       "2.804957380481795"
      ]
     },
     "execution_count": 13,
     "metadata": {},
     "output_type": "execute_result"
    }
   ],
   "source": [
    "test_mae"
   ]
  },
  {
   "cell_type": "markdown",
   "metadata": {},
   "source": [
    "# Find right epochs"
   ]
  },
  {
   "cell_type": "code",
   "execution_count": 14,
   "metadata": {},
   "outputs": [],
   "source": [
    "from keras import backend as K\n",
    "# Some memory clean-up\n",
    "K.clear_session()"
   ]
  },
  {
   "cell_type": "code",
   "execution_count": 15,
   "metadata": {},
   "outputs": [
    {
     "name": "stdout",
     "output_type": "stream",
     "text": [
      "processing fold # 0\n",
      "processing fold # 1\n",
      "processing fold # 2\n",
      "processing fold # 3\n"
     ]
    }
   ],
   "source": [
    "num_epochs = 500\n",
    "all_mae_histories = []\n",
    "for i in range(k):\n",
    "    print('processing fold #', i)\n",
    "    # Prepare the validation data: data from partition # k\n",
    "    val_data = train_data[i * num_val_samples: (i + 1) * num_val_samples]\n",
    "    val_targets = train_targets[i * num_val_samples: (i + 1) * num_val_samples]\n",
    "\n",
    "    # Prepare the training data: data from all other partitions\n",
    "    partial_train_data = np.concatenate(\n",
    "        [train_data[:i * num_val_samples],\n",
    "         train_data[(i + 1) * num_val_samples:]],\n",
    "        axis=0)\n",
    "    partial_train_targets = np.concatenate(\n",
    "        [train_targets[:i * num_val_samples],\n",
    "         train_targets[(i + 1) * num_val_samples:]],\n",
    "        axis=0)\n",
    "\n",
    "    # Build the Keras model (already compiled)\n",
    "    model = build_model()\n",
    "    # Train the model (in silent mode, verbose=0)\n",
    "    history = model.fit(partial_train_data, partial_train_targets,\n",
    "                        validation_data=(val_data, val_targets),\n",
    "                        epochs=num_epochs, batch_size=1, verbose=0)\n",
    "    mae_history = history.history['val_mean_absolute_error']\n",
    "    all_mae_histories.append(mae_history)"
   ]
  },
  {
   "cell_type": "code",
   "execution_count": 16,
   "metadata": {},
   "outputs": [],
   "source": [
    "average_mae_history = [np.mean([x[i] for x in all_mae_histories]) for i in range(num_epochs)]"
   ]
  },
  {
   "cell_type": "code",
   "execution_count": 18,
   "metadata": {},
   "outputs": [
    {
     "data": {
      "image/png": "[encoded data removed]",
      "text/plain": [
       "<Figure size 432x288 with 1 Axes>"
      ]
     },
     "metadata": {
      "needs_background": "light"
     },
     "output_type": "display_data"
    }
   ],
   "source": [
    "import matplotlib.pyplot as plt\n",
    "%matplotlib inline\n",
    "\n",
    "plt.plot(range(1, len(average_mae_history) + 1), average_mae_history)\n",
    "plt.xlabel('Epochs')\n",
    "plt.ylabel('Validation MAE')\n",
    "plt.show()"
   ]
  },
  {
   "cell_type": "code",
   "execution_count": 23,
   "metadata": {},
   "outputs": [],
   "source": [
    "def smooth_curve(points, factor=0.9):\n",
    "    smoothed_points = []\n",
    "    for point in points:\n",
    "        if smoothed_points:\n",
    "            previous = smoothed_points[-1]\n",
    "            smoothed_points.append(previous * factor + point * (1 - factor))\n",
    "        else:\n",
    "            smoothed_points.append(point)\n",
    "    return smoothed_points"
   ]
  },
  {
   "cell_type": "code",
   "execution_count": 27,
   "metadata": {},
   "outputs": [
    {
     "data": {
      "image/png": "[encoded data removed]",
      "text/plain": [
       "<Figure size 432x288 with 1 Axes>"
      ]
     },
     "metadata": {
      "needs_background": "light"
     },
     "output_type": "display_data"
    }
   ],
   "source": [
    "smooth_mae_history = smooth_curve(average_mae_history[10:],0.9)\n",
    "plt.plot(range(1, len(smooth_mae_history) + 1), smooth_mae_history)\n",
    "plt.xlabel('Epochs')\n",
    "plt.ylabel('Validation MAE')\n",
    "plt.show()"
   ]
  },
  {
   "cell_type": "code",
   "execution_count": 30,
   "metadata": {
    "scrolled": true
   },
   "outputs": [
    {
     "name": "stdout",
     "output_type": "stream",
     "text": [
      "Epoch 1/25\n",
      "404/404 [==============================] - 1s 2ms/step - loss: 500.1797 - mean_absolute_error: 20.3968\n",
      "Epoch 2/25\n",
      "404/404 [==============================] - 0s 121us/step - loss: 331.1695 - mean_absolute_error: 15.8883\n",
      "Epoch 3/25\n",
      "404/404 [==============================] - 0s 122us/step - loss: 161.1016 - mean_absolute_error: 10.1658\n",
      "Epoch 4/25\n",
      "404/404 [==============================] - 0s 125us/step - loss: 73.6288 - mean_absolute_error: 6.3465\n",
      "Epoch 5/25\n",
      "404/404 [==============================] - 0s 147us/step - loss: 44.0634 - mean_absolute_error: 4.8768\n",
      "Epoch 6/25\n",
      "404/404 [==============================] - 0s 133us/step - loss: 31.0776 - mean_absolute_error: 3.9752\n",
      "Epoch 7/25\n",
      "404/404 [==============================] - 0s 129us/step - loss: 25.0020 - mean_absolute_error: 3.5253\n",
      "Epoch 8/25\n",
      "404/404 [==============================] - 0s 125us/step - loss: 22.2079 - mean_absolute_error: 3.2178\n",
      "Epoch 9/25\n",
      "404/404 [==============================] - 0s 220us/step - loss: 19.7712 - mean_absolute_error: 3.0227\n",
      "Epoch 10/25\n",
      "404/404 [==============================] - 0s 187us/step - loss: 18.2394 - mean_absolute_error: 2.8829\n",
      "Epoch 11/25\n",
      "404/404 [==============================] - 0s 181us/step - loss: 16.4051 - mean_absolute_error: 2.7518\n",
      "Epoch 12/25\n",
      "404/404 [==============================] - 0s 173us/step - loss: 15.3214 - mean_absolute_error: 2.6620\n",
      "Epoch 13/25\n",
      "404/404 [==============================] - 0s 134us/step - loss: 14.3410 - mean_absolute_error: 2.5888\n",
      "Epoch 14/25\n",
      "404/404 [==============================] - 0s 163us/step - loss: 13.3312 - mean_absolute_error: 2.5155\n",
      "Epoch 15/25\n",
      "404/404 [==============================] - 0s 122us/step - loss: 12.6343 - mean_absolute_error: 2.4366\n",
      "Epoch 16/25\n",
      "404/404 [==============================] - 0s 106us/step - loss: 12.3892 - mean_absolute_error: 2.4516\n",
      "Epoch 17/25\n",
      "404/404 [==============================] - 0s 123us/step - loss: 11.4724 - mean_absolute_error: 2.3540\n",
      "Epoch 18/25\n",
      "404/404 [==============================] - 0s 131us/step - loss: 11.3586 - mean_absolute_error: 2.3916\n",
      "Epoch 19/25\n",
      "404/404 [==============================] - 0s 124us/step - loss: 10.9333 - mean_absolute_error: 2.3244\n",
      "Epoch 20/25\n",
      "404/404 [==============================] - 0s 114us/step - loss: 10.7697 - mean_absolute_error: 2.2957\n",
      "Epoch 21/25\n",
      "404/404 [==============================] - 0s 140us/step - loss: 10.2685 - mean_absolute_error: 2.2801\n",
      "Epoch 22/25\n",
      "404/404 [==============================] - 0s 129us/step - loss: 10.2265 - mean_absolute_error: 2.2482\n",
      "Epoch 23/25\n",
      "404/404 [==============================] - 0s 102us/step - loss: 10.1292 - mean_absolute_error: 2.2483\n",
      "Epoch 24/25\n",
      "404/404 [==============================] - 0s 103us/step - loss: 9.8455 - mean_absolute_error: 2.2560\n",
      "Epoch 25/25\n",
      "404/404 [==============================] - 0s 227us/step - loss: 9.7324 - mean_absolute_error: 2.1967\n",
      "102/102 [==============================] - 0s 2ms/step\n"
     ]
    }
   ],
   "source": [
    "model = build_model()\n",
    "model.fit(train_data, train_targets, epochs=25, batch_size=16)\n",
    "test_mse_score, test_mae_score = model.evaluate(test_data, test_targets)"
   ]
  },
  {
   "cell_type": "code",
   "execution_count": 31,
   "metadata": {},
   "outputs": [
    {
     "data": {
      "text/plain": [
       "3.281853759990019"
      ]
     },
     "execution_count": 31,
     "metadata": {},
     "output_type": "execute_result"
    }
   ],
   "source": [
    "test_mae_score"
   ]
  },
  {
   "cell_type": "code",
   "execution_count": null,
   "metadata": {},
   "outputs": [],
   "source": []
  }
 ],
 "metadata": {
  "kernelspec": {
   "display_name": "Python 3",
   "language": "python",
   "name": "python3"
  },
  "language_info": {
   "codemirror_mode": {
    "name": "ipython",
    "version": 3
   },
   "file_extension": ".py",
   "mimetype": "text/x-python",
   "name": "python",
   "nbconvert_exporter": "python",
   "pygments_lexer": "ipython3",
   "version": "3.6.8"
  }
 },
 "nbformat": 4,
 "nbformat_minor": 2
}

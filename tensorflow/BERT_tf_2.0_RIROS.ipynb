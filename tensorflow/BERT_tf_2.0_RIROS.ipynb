{
 "cells": [
  {
   "cell_type": "markdown",
   "metadata": {},
   "source": [
    "Load data"
   ]
  },
  {
   "cell_type": "code",
   "execution_count": 1,
   "metadata": {},
   "outputs": [],
   "source": [
    "import tensorflow as tf\n",
    "import pandas as pd\n",
    "from tensorflow.python.lib.io.tf_record import TFRecordWriter"
   ]
  },
  {
   "cell_type": "code",
   "execution_count": 2,
   "metadata": {},
   "outputs": [],
   "source": [
    "gpu_options = tf.compat.v1.GPUOptions(allow_growth=True) \n",
    "session = tf.compat.v1.InteractiveSession(config=tf.compat.v1.ConfigProto(gpu_options=gpu_options))"
   ]
  },
  {
   "cell_type": "code",
   "execution_count": 3,
   "metadata": {},
   "outputs": [
    {
     "name": "stdout",
     "output_type": "stream",
     "text": [
      "(276, 3)\n"
     ]
    },
    {
     "data": {
      "text/html": [
       "<div>\n",
       "<style scoped>\n",
       "    .dataframe tbody tr th:only-of-type {\n",
       "        vertical-align: middle;\n",
       "    }\n",
       "\n",
       "    .dataframe tbody tr th {\n",
       "        vertical-align: top;\n",
       "    }\n",
       "\n",
       "    .dataframe thead th {\n",
       "        text-align: right;\n",
       "    }\n",
       "</style>\n",
       "<table border=\"1\" class=\"dataframe\">\n",
       "  <thead>\n",
       "    <tr style=\"text-align: right;\">\n",
       "      <th></th>\n",
       "      <th>index</th>\n",
       "      <th>label</th>\n",
       "      <th>text</th>\n",
       "    </tr>\n",
       "  </thead>\n",
       "  <tbody>\n",
       "    <tr>\n",
       "      <th>0</th>\n",
       "      <td>66</td>\n",
       "      <td>C</td>\n",
       "      <td>Left femur case. The goal was to generate an A...</td>\n",
       "    </tr>\n",
       "    <tr>\n",
       "      <th>1</th>\n",
       "      <td>229</td>\n",
       "      <td>A</td>\n",
       "      <td>Ap RT hip was treated with the gantry in the P...</td>\n",
       "    </tr>\n",
       "    <tr>\n",
       "      <th>2</th>\n",
       "      <td>7</td>\n",
       "      <td>C</td>\n",
       "      <td>The prescription indicated 6MV photons, howeve...</td>\n",
       "    </tr>\n",
       "    <tr>\n",
       "      <th>3</th>\n",
       "      <td>140</td>\n",
       "      <td>C</td>\n",
       "      <td>Removal of the CT couch was done incorrectly i...</td>\n",
       "    </tr>\n",
       "    <tr>\n",
       "      <th>4</th>\n",
       "      <td>324</td>\n",
       "      <td>B</td>\n",
       "      <td>A prescription written by MD-1 for a patient w...</td>\n",
       "    </tr>\n",
       "  </tbody>\n",
       "</table>\n",
       "</div>"
      ],
      "text/plain": [
       "   index label                                               text\n",
       "0     66     C  Left femur case. The goal was to generate an A...\n",
       "1    229     A  Ap RT hip was treated with the gantry in the P...\n",
       "2      7     C  The prescription indicated 6MV photons, howeve...\n",
       "3    140     C  Removal of the CT couch was done incorrectly i...\n",
       "4    324     B  A prescription written by MD-1 for a patient w..."
      ]
     },
     "execution_count": 3,
     "metadata": {},
     "output_type": "execute_result"
    }
   ],
   "source": [
    "train = pd.read_csv(\"data/RIROS/va_train.csv\")\n",
    "train = train.drop(['incidentID'], axis=1)\n",
    "train.rename(columns={\"Unnamed: 0\": \"index\"}, inplace=True)\n",
    "print(train.shape)\n",
    "train.head()"
   ]
  },
  {
   "cell_type": "code",
   "execution_count": 4,
   "metadata": {},
   "outputs": [
    {
     "data": {
      "text/html": [
       "<div>\n",
       "<style scoped>\n",
       "    .dataframe tbody tr th:only-of-type {\n",
       "        vertical-align: middle;\n",
       "    }\n",
       "\n",
       "    .dataframe tbody tr th {\n",
       "        vertical-align: top;\n",
       "    }\n",
       "\n",
       "    .dataframe thead th {\n",
       "        text-align: right;\n",
       "    }\n",
       "</style>\n",
       "<table border=\"1\" class=\"dataframe\">\n",
       "  <thead>\n",
       "    <tr style=\"text-align: right;\">\n",
       "      <th></th>\n",
       "      <th>index</th>\n",
       "      <th>label</th>\n",
       "      <th>text</th>\n",
       "    </tr>\n",
       "  </thead>\n",
       "  <tbody>\n",
       "    <tr>\n",
       "      <th>0</th>\n",
       "      <td>194</td>\n",
       "      <td>0</td>\n",
       "      <td>Radiation Oncology Technician noted a treatmen...</td>\n",
       "    </tr>\n",
       "    <tr>\n",
       "      <th>1</th>\n",
       "      <td>157</td>\n",
       "      <td>0</td>\n",
       "      <td>A treatment of a patient's larynx using half b...</td>\n",
       "    </tr>\n",
       "    <tr>\n",
       "      <th>2</th>\n",
       "      <td>225</td>\n",
       "      <td>1</td>\n",
       "      <td>Door switch malfunction at linac room caused i...</td>\n",
       "    </tr>\n",
       "    <tr>\n",
       "      <th>3</th>\n",
       "      <td>208</td>\n",
       "      <td>1</td>\n",
       "      <td>During RTT pre-checks, it was found that the k...</td>\n",
       "    </tr>\n",
       "    <tr>\n",
       "      <th>4</th>\n",
       "      <td>319</td>\n",
       "      <td>1</td>\n",
       "      <td>5 fraction plan was approved and loaded into A...</td>\n",
       "    </tr>\n",
       "  </tbody>\n",
       "</table>\n",
       "</div>"
      ],
      "text/plain": [
       "   index  label                                               text\n",
       "0    194      0  Radiation Oncology Technician noted a treatmen...\n",
       "1    157      0  A treatment of a patient's larynx using half b...\n",
       "2    225      1  Door switch malfunction at linac room caused i...\n",
       "3    208      1  During RTT pre-checks, it was found that the k...\n",
       "4    319      1  5 fraction plan was approved and loaded into A..."
      ]
     },
     "execution_count": 4,
     "metadata": {},
     "output_type": "execute_result"
    }
   ],
   "source": [
    "# load test data , here should be validation set\n",
    "test = pd.read_csv('./data/RIROS/va_test.csv')\n",
    "test = test.drop(['incidentID'], axis=1)\n",
    "test.rename(columns={\"Unnamed: 0\": \"index\"}, inplace=True)\n",
    "test['label'].replace({'A':0,'B':0, 'C':1, 'D':1},inplace=True)\n",
    "test_csv = test.values\n",
    "test.head()"
   ]
  },
  {
   "cell_type": "code",
   "execution_count": 5,
   "metadata": {},
   "outputs": [],
   "source": [
    "# fraction of sample pass to the train and test as example\n",
    "SAMPLE_FRAC = 1\n",
    "# 80% data for training and 20% data for validate\n",
    "TRAIN_FRAC = 0.8\n",
    "# change sentiment label form 'pos' and 'neg' to 1 and 0, which bert model knows\n",
    "train['label'].replace({'A':0,'B':0, 'C':1, 'D':1},inplace=True)"
   ]
  },
  {
   "cell_type": "code",
   "execution_count": 6,
   "metadata": {},
   "outputs": [
    {
     "name": "stdout",
     "output_type": "stream",
     "text": [
      "Train :  91 185\n",
      "Test :  23 46\n"
     ]
    }
   ],
   "source": [
    "print(\"Train : \", sum(train['label']==0), sum(train['label']==1))\n",
    "print(\"Test : \", sum(test['label']==0), sum(test['label']==1))"
   ]
  },
  {
   "cell_type": "code",
   "execution_count": 7,
   "metadata": {},
   "outputs": [
    {
     "data": {
      "text/html": [
       "<div>\n",
       "<style scoped>\n",
       "    .dataframe tbody tr th:only-of-type {\n",
       "        vertical-align: middle;\n",
       "    }\n",
       "\n",
       "    .dataframe tbody tr th {\n",
       "        vertical-align: top;\n",
       "    }\n",
       "\n",
       "    .dataframe thead th {\n",
       "        text-align: right;\n",
       "    }\n",
       "</style>\n",
       "<table border=\"1\" class=\"dataframe\">\n",
       "  <thead>\n",
       "    <tr style=\"text-align: right;\">\n",
       "      <th></th>\n",
       "      <th>index</th>\n",
       "      <th>label</th>\n",
       "      <th>text</th>\n",
       "    </tr>\n",
       "  </thead>\n",
       "  <tbody>\n",
       "    <tr>\n",
       "      <th>0</th>\n",
       "      <td>66</td>\n",
       "      <td>1</td>\n",
       "      <td>Left femur case. The goal was to generate an A...</td>\n",
       "    </tr>\n",
       "    <tr>\n",
       "      <th>1</th>\n",
       "      <td>229</td>\n",
       "      <td>0</td>\n",
       "      <td>Ap RT hip was treated with the gantry in the P...</td>\n",
       "    </tr>\n",
       "    <tr>\n",
       "      <th>2</th>\n",
       "      <td>7</td>\n",
       "      <td>1</td>\n",
       "      <td>The prescription indicated 6MV photons, howeve...</td>\n",
       "    </tr>\n",
       "    <tr>\n",
       "      <th>3</th>\n",
       "      <td>140</td>\n",
       "      <td>1</td>\n",
       "      <td>Removal of the CT couch was done incorrectly i...</td>\n",
       "    </tr>\n",
       "    <tr>\n",
       "      <th>4</th>\n",
       "      <td>324</td>\n",
       "      <td>0</td>\n",
       "      <td>A prescription written by MD-1 for a patient w...</td>\n",
       "    </tr>\n",
       "  </tbody>\n",
       "</table>\n",
       "</div>"
      ],
      "text/plain": [
       "   index  label                                               text\n",
       "0     66      1  Left femur case. The goal was to generate an A...\n",
       "1    229      0  Ap RT hip was treated with the gantry in the P...\n",
       "2      7      1  The prescription indicated 6MV photons, howeve...\n",
       "3    140      1  Removal of the CT couch was done incorrectly i...\n",
       "4    324      0  A prescription written by MD-1 for a patient w..."
      ]
     },
     "execution_count": 7,
     "metadata": {},
     "output_type": "execute_result"
    }
   ],
   "source": [
    "train.head()"
   ]
  },
  {
   "cell_type": "code",
   "execution_count": 8,
   "metadata": {},
   "outputs": [],
   "source": [
    "# train set\n",
    "train_sample = train.sample(frac=SAMPLE_FRAC,random_state=0)\n",
    "train_select = train_sample.sample(frac= TRAIN_FRAC,random_state=0)\n",
    "train_csv = train_select.values\n",
    "\n",
    "# validate set \n",
    "validate_select = train_sample.drop(index=train_select.index)\n",
    "validate_csv = validate_select.values"
   ]
  },
  {
   "cell_type": "markdown",
   "metadata": {},
   "source": [
    "Build TFRecord"
   ]
  },
  {
   "cell_type": "code",
   "execution_count": 9,
   "metadata": {},
   "outputs": [
    {
     "name": "stderr",
     "output_type": "stream",
     "text": [
      "<>:38: SyntaxWarning: \"is\" with a literal. Did you mean \"==\"?\n",
      "<>:38: SyntaxWarning: \"is\" with a literal. Did you mean \"==\"?\n",
      "<ipython-input-9-e82be62d8b6d>:38: SyntaxWarning: \"is\" with a literal. Did you mean \"==\"?\n",
      "  if row[2].strip() is '':\n"
     ]
    }
   ],
   "source": [
    "import time\n",
    "def create_tf_example(features,label):\n",
    "    \"\"\"\n",
    "    Create tf example using features and label\n",
    "\n",
    "    Args:\n",
    "        features: list, feature list with format  ['idx','sentence']\n",
    "        label: string, \n",
    "\n",
    "    Return:\n",
    "        A binary-string of tf example.\n",
    "        All proto messages can be serialized to a binary-string using the .SerializeToString method.\n",
    "    \"\"\"\n",
    "    tf_example = tf.train.Example(features = tf.train.Features(feature = {\n",
    "        'idx': tf.train.Feature(int64_list=tf.train.Int64List(value=[features[0]])),\n",
    "        'sentence': tf.train.Feature(bytes_list=tf.train.BytesList(value=[features[1].encode('utf-8')])),\n",
    "        'label': tf.train.Feature(int64_list=tf.train.Int64List(value=[label]))\n",
    "    }))\n",
    "    return tf_example.SerializeToString()\n",
    "\n",
    "def convert_csv_to_tfrecord(csv, file_name):\n",
    "    \"\"\"\n",
    "    Convert the numpy arryes to tfrecord and write files\n",
    "\n",
    "    Args:\n",
    "        csv: numpy arrays, each row feed (features+label)\n",
    "        file_name: location TFRecord to be saved \n",
    "    \"\"\"\n",
    "    start_time = time.time()\n",
    "    writer = TFRecordWriter(file_name)\n",
    "    for idx,row in enumerate(csv):\n",
    "        # check the row retionality, raise error when missing value\n",
    "        try:\n",
    "            if row is None:\n",
    "                raise Exception('Row Missing')\n",
    "            if row[0] is None or row[1] is None or row[2] is None:\n",
    "                raise Exception('Value Missing')\n",
    "            if row[2].strip() is '':\n",
    "                raise Exception('Utterance is empty')\n",
    "            \n",
    "            features, label = row[[0,2]],row[1]\n",
    "            example =  create_tf_example(features,label)\n",
    "            writer.write(example)\n",
    "\n",
    "        except Exception as inst:\n",
    "            print(type(inst))\n",
    "            print(inst.args)\n",
    "            print(inst)\n",
    "    writer.close()\n",
    "    print(f\"{file_name}: --- {(time.time() - start_time)} seconds ---\")"
   ]
  },
  {
   "cell_type": "code",
   "execution_count": 10,
   "metadata": {},
   "outputs": [
    {
     "name": "stdout",
     "output_type": "stream",
     "text": [
      "./data/riros_train.tfrecord: --- 0.015903711318969727 seconds ---\n",
      "./data/riros_validate.tfrecord: --- 0.004451274871826172 seconds ---\n",
      "./data/riros_test.tfrecord: --- 0.0050089359283447266 seconds ---\n"
     ]
    }
   ],
   "source": [
    "convert_csv_to_tfrecord(train_csv, \"./data/riros_train.tfrecord\")\n",
    "convert_csv_to_tfrecord(validate_csv, \"./data/riros_validate.tfrecord\")\n",
    "convert_csv_to_tfrecord(test_csv, \"./data/riros_test.tfrecord\")"
   ]
  },
  {
   "cell_type": "code",
   "execution_count": 11,
   "metadata": {},
   "outputs": [],
   "source": [
    "import json\n",
    "# generate exmaple number , save for use in the future \n",
    "def generate_json_info(local_file_name,df_train=[],df_val=[],df_test=[]):\n",
    "    info = {\"train_length\": len(df_train), \"validation_length\": len(df_val),\n",
    "            \"test_length\": len(df_test)}\n",
    "\n",
    "    with open(local_file_name, 'w') as outfile:\n",
    "        json.dump(info, outfile)\n",
    "\n",
    "generate_json_info('./data/info.json',train_csv,validate_csv,test_csv)"
   ]
  },
  {
   "cell_type": "code",
   "execution_count": 12,
   "metadata": {},
   "outputs": [],
   "source": [
    "tr_ds = tf.data.TFRecordDataset(\"data/riros_train.tfrecord\")"
   ]
  },
  {
   "cell_type": "code",
   "execution_count": 13,
   "metadata": {},
   "outputs": [],
   "source": [
    "# Create a description of the features.\n",
    "feature_spec = {\n",
    "    'idx': tf.io.FixedLenFeature([], tf.int64),\n",
    "    'sentence': tf.io.FixedLenFeature([], tf.string),\n",
    "    'label': tf.io.FixedLenFeature([], tf.int64)\n",
    "}\n",
    "def parse_example(example_proto):\n",
    "  # Parse the input tf.Example proto using the dictionary above.\n",
    "    return tf.io.parse_single_example(example_proto, feature_spec)\n",
    "tr_parse_ds = tr_ds.map(parse_example)\n",
    "dataset_iterator = iter(tr_parse_ds)"
   ]
  },
  {
   "cell_type": "code",
   "execution_count": 14,
   "metadata": {},
   "outputs": [
    {
     "data": {
      "text/plain": [
       "{'idx': <tf.Tensor: shape=(), dtype=int64, numpy=249>,\n",
       " 'label': <tf.Tensor: shape=(), dtype=int64, numpy=1>,\n",
       " 'sentence': <tf.Tensor: shape=(), dtype=string, numpy=b'The plan prescription was changed by the MD from 18Gy to 16Gy. The plan was changed in iPlan (BrainLab) and MUs were rescaled in Aria rather than reloading a new plan. The paper chart had the new plan printed and placed, but not exported. The Aria plan had errors in plan parameters and reference points that had not been updated by the dosimetrist.'>}"
      ]
     },
     "execution_count": 14,
     "metadata": {},
     "output_type": "execute_result"
    }
   ],
   "source": [
    "dataset_iterator.get_next()"
   ]
  },
  {
   "cell_type": "code",
   "execution_count": 15,
   "metadata": {},
   "outputs": [],
   "source": [
    "import tensorflow as tf\n",
    "from transformers import *\n",
    "from transformers import BertTokenizer, TFBertForSequenceClassification, glue_convert_examples_to_features\n",
    "from transformers.configuration_bert import BertConfig"
   ]
  },
  {
   "cell_type": "code",
   "execution_count": 16,
   "metadata": {},
   "outputs": [],
   "source": [
    "tr_ds = tf.data.TFRecordDataset(\"data/riros_train.tfrecord\")\n",
    "val_ds = tf.data.TFRecordDataset(\"data/riros_validate.tfrecord\")\n",
    "test_ds = tf.data.TFRecordDataset(\"data/riros_test.tfrecord\")"
   ]
  },
  {
   "cell_type": "code",
   "execution_count": 17,
   "metadata": {},
   "outputs": [],
   "source": [
    "# Create a description of the features.\n",
    "feature_spec = {\n",
    "    'idx': tf.io.FixedLenFeature([], tf.int64),\n",
    "    'sentence': tf.io.FixedLenFeature([], tf.string),\n",
    "    'label': tf.io.FixedLenFeature([], tf.int64)\n",
    "}\n",
    "def parse_example(example_proto):\n",
    "  # Parse the input tf.Example proto using the dictionary above.\n",
    "    return tf.io.parse_single_example(example_proto, feature_spec)\n",
    "\n",
    "# convert the encoded string tensor into the separate tensors that will feed into the model\n",
    "tr_parse_ds = tr_ds.map(parse_example)\n",
    "val_parse_ds = val_ds.map(parse_example)\n",
    "test_parse_ds =  test_ds.map(parse_example)"
   ]
  },
  {
   "cell_type": "code",
   "execution_count": 18,
   "metadata": {},
   "outputs": [],
   "source": [
    "def clean_string(features):\n",
    "    revised_sentence = tf.strings.regex_replace(features['sentence'], \"\\.\\.\\.\", \"\", replace_global=True)\n",
    "    revised_sentence = tf.strings.regex_replace(revised_sentence, \"\\\\'\", \"'\", replace_global=True)\n",
    "    revised_sentence = tf.strings.regex_replace(revised_sentence, \"\\\\n\", \"\", replace_global=True)\n",
    "    features['sentence'] = revised_sentence\n",
    "    return features"
   ]
  },
  {
   "cell_type": "code",
   "execution_count": 19,
   "metadata": {},
   "outputs": [],
   "source": [
    "tr_clean_ds = tr_parse_ds.map(lambda features: clean_string(features))\n",
    "val_clean_ds = val_parse_ds.map(lambda features: clean_string(features))\n",
    "test_clean_ds =  test_parse_ds.map(lambda features: clean_string(features))"
   ]
  },
  {
   "cell_type": "code",
   "execution_count": 20,
   "metadata": {},
   "outputs": [],
   "source": [
    "BATCH_SIZE = 8\n",
    "\n",
    "EVAL_BATCH_SIZE = BATCH_SIZE * 2\n",
    "\n",
    "# XLA is the optimizing compiler for machine learning\n",
    "# It can potentially increase speed by 15% with no source code changes\n",
    "USE_XLA = False\n",
    "\n",
    "# mixed precision results on https://github.com/huggingface/transformers/tree/master/examples\n",
    "# Mixed precision can help to speed up training time\n",
    "USE_AMP = False"
   ]
  },
  {
   "cell_type": "code",
   "execution_count": 21,
   "metadata": {},
   "outputs": [],
   "source": [
    "tf.config.optimizer.set_jit(USE_XLA)\n",
    "tf.config.optimizer.set_experimental_options({\"auto_mixed_precision\": USE_AMP})"
   ]
  },
  {
   "cell_type": "code",
   "execution_count": 22,
   "metadata": {},
   "outputs": [
    {
     "data": {
      "text/plain": [
       "(221, 55, 69)"
      ]
     },
     "execution_count": 22,
     "metadata": {},
     "output_type": "execute_result"
    }
   ],
   "source": [
    "# Steps is determined by the number of examples\n",
    "import json\n",
    "with open('data/info.json') as json_file:\n",
    "    data_info = json.load(json_file)\n",
    "    \n",
    "train_examples = data_info['train_length']\n",
    "valid_examples = data_info['validation_length']\n",
    "test_examples = data_info['test_length']\n",
    "\n",
    "train_examples, valid_examples, test_examples"
   ]
  },
  {
   "cell_type": "code",
   "execution_count": 23,
   "metadata": {},
   "outputs": [],
   "source": [
    "from ipywidgets import IntProgress"
   ]
  },
  {
   "cell_type": "code",
   "execution_count": 24,
   "metadata": {},
   "outputs": [
    {
     "name": "stderr",
     "output_type": "stream",
     "text": [
      "Some weights of the model checkpoint at bert-base-uncased were not used when initializing TFBertForSequenceClassification: ['nsp___cls', 'mlm___cls']\n",
      "- This IS expected if you are initializing TFBertForSequenceClassification from the checkpoint of a model trained on another task or with another architecture (e.g. initializing a BertForSequenceClassification model from a BertForPretraining model).\n",
      "- This IS NOT expected if you are initializing TFBertForSequenceClassification from the checkpoint of a model that you expect to be exactly identical (initializing a BertForSequenceClassification model from a BertForSequenceClassification model).\n",
      "Some weights of TFBertForSequenceClassification were not initialized from the model checkpoint at bert-base-uncased and are newly initialized: ['dropout_37', 'classifier']\n",
      "You should probably TRAIN this model on a down-stream task to be able to use it for predictions and inference.\n"
     ]
    }
   ],
   "source": [
    "# Load tokenizer and model from pretrained model/vocabulary. Specify the number of labels to classify (2+: classification, 1: regression)\n",
    "num_labels = 2 \n",
    "config = BertConfig.from_pretrained(\"bert-base-uncased\", num_labels=num_labels)\n",
    "tokenizer = BertTokenizer.from_pretrained(\"bert-base-uncased\")\n",
    "model = TFBertForSequenceClassification.from_pretrained('bert-base-uncased', config=config)"
   ]
  },
  {
   "cell_type": "code",
   "execution_count": 25,
   "metadata": {},
   "outputs": [
    {
     "name": "stdout",
     "output_type": "stream",
     "text": [
      "---0.5168788433074951 seconds---\n"
     ]
    }
   ],
   "source": [
    "import time\n",
    "start_time = time.time()\n",
    "train_dataset = glue_convert_examples_to_features(examples=tr_clean_ds, tokenizer=tokenizer\n",
    "                                                  , max_length=128, task='sst-2',\n",
    "                                                  label_list=['0','1']\n",
    "                                                  )\n",
    "print(f\"---{time.time()-start_time} seconds---\")"
   ]
  },
  {
   "cell_type": "code",
   "execution_count": 26,
   "metadata": {},
   "outputs": [
    {
     "name": "stdout",
     "output_type": "stream",
     "text": [
      "---0.17525959014892578 seconds---\n"
     ]
    }
   ],
   "source": [
    "import time\n",
    "start_time = time.time()\n",
    "valid_dataset = glue_convert_examples_to_features(examples=val_clean_ds, tokenizer=tokenizer\n",
    "                                                  , max_length=128, task='sst-2'\n",
    "                                                  , label_list =['0', '1'])\n",
    "print(f\"---{time.time()-start_time} seconds---\")"
   ]
  },
  {
   "cell_type": "code",
   "execution_count": 27,
   "metadata": {},
   "outputs": [],
   "source": [
    "train_dataset = train_dataset.shuffle(train_examples).batch(BATCH_SIZE).repeat(-1)\n",
    "\n",
    "valid_dataset = valid_dataset.batch(EVAL_BATCH_SIZE)"
   ]
  },
  {
   "cell_type": "code",
   "execution_count": 28,
   "metadata": {},
   "outputs": [],
   "source": [
    "opt = tf.keras.optimizers.Adam(learning_rate=1e-5)\n",
    "\n",
    "if USE_AMP:\n",
    "    # loss scaling is currently required when using mixed precision\n",
    "    opt = tf.keras.mixed_precision.experimental.LossScaleOptimizer(opt, 'dynamic')\n",
    "\n",
    "loss = tf.keras.losses.BinaryCrossentropy()\n",
    "#metric = tf.keras.metrics.BinaryCrossentropy('accuracy')\n",
    "model.compile(optimizer=opt, loss=loss, metrics=['accuracy'])"
   ]
  },
  {
   "cell_type": "code",
   "execution_count": 29,
   "metadata": {},
   "outputs": [],
   "source": [
    "train_steps = train_examples//BATCH_SIZE\n",
    "valid_steps = valid_examples//EVAL_BATCH_SIZE"
   ]
  },
  {
   "cell_type": "code",
   "execution_count": 30,
   "metadata": {},
   "outputs": [
    {
     "name": "stdout",
     "output_type": "stream",
     "text": [
      "Num GPUs Available:  4\n"
     ]
    },
    {
     "data": {
      "text/plain": [
       "[PhysicalDevice(name='/physical_device:CPU:0', device_type='CPU'),\n",
       " PhysicalDevice(name='/physical_device:XLA_CPU:0', device_type='XLA_CPU'),\n",
       " PhysicalDevice(name='/physical_device:GPU:0', device_type='GPU'),\n",
       " PhysicalDevice(name='/physical_device:GPU:1', device_type='GPU'),\n",
       " PhysicalDevice(name='/physical_device:GPU:2', device_type='GPU'),\n",
       " PhysicalDevice(name='/physical_device:GPU:3', device_type='GPU'),\n",
       " PhysicalDevice(name='/physical_device:XLA_GPU:0', device_type='XLA_GPU'),\n",
       " PhysicalDevice(name='/physical_device:XLA_GPU:1', device_type='XLA_GPU'),\n",
       " PhysicalDevice(name='/physical_device:XLA_GPU:2', device_type='XLA_GPU'),\n",
       " PhysicalDevice(name='/physical_device:XLA_GPU:3', device_type='XLA_GPU')]"
      ]
     },
     "execution_count": 30,
     "metadata": {},
     "output_type": "execute_result"
    }
   ],
   "source": [
    "# GPU USAGE\n",
    "print(\"Num GPUs Available: \", len(tf.config.experimental.list_physical_devices('GPU')))\n",
    "tf.config.experimental.list_physical_devices()"
   ]
  },
  {
   "cell_type": "code",
   "execution_count": 31,
   "metadata": {},
   "outputs": [
    {
     "name": "stdout",
     "output_type": "stream",
     "text": [
      "Model: \"tf_bert_for_sequence_classification\"\n",
      "_________________________________________________________________\n",
      "Layer (type)                 Output Shape              Param #   \n",
      "=================================================================\n",
      "bert (TFBertMainLayer)       multiple                  109482240 \n",
      "_________________________________________________________________\n",
      "dropout_37 (Dropout)         multiple                  0         \n",
      "_________________________________________________________________\n",
      "classifier (Dense)           multiple                  1538      \n",
      "=================================================================\n",
      "Total params: 109,483,778\n",
      "Trainable params: 109,483,778\n",
      "Non-trainable params: 0\n",
      "_________________________________________________________________\n"
     ]
    }
   ],
   "source": [
    "model.summary()"
   ]
  },
  {
   "cell_type": "code",
   "execution_count": 32,
   "metadata": {},
   "outputs": [
    {
     "name": "stdout",
     "output_type": "stream",
     "text": [
      "Epoch 1/5\n",
      "27/27 [==============================] - 10s 389ms/step - loss: 1.3852 - accuracy: 0.4861 - val_loss: 0.7437 - val_accuracy: 0.3750\n",
      "Epoch 2/5\n",
      "27/27 [==============================] - 8s 279ms/step - loss: 0.6853 - accuracy: 0.4225 - val_loss: 0.7138 - val_accuracy: 0.4167\n",
      "Epoch 3/5\n",
      "27/27 [==============================] - 7s 277ms/step - loss: 0.6372 - accuracy: 0.4742 - val_loss: 0.6791 - val_accuracy: 0.4792\n",
      "Epoch 4/5\n",
      "27/27 [==============================] - 7s 277ms/step - loss: 0.5597 - accuracy: 0.4789 - val_loss: 0.6422 - val_accuracy: 0.4167\n",
      "Epoch 5/5\n",
      "27/27 [==============================] - 7s 276ms/step - loss: 0.5846 - accuracy: 0.3380 - val_loss: 0.6339 - val_accuracy: 0.3958\n"
     ]
    }
   ],
   "source": [
    "history = model.fit(train_dataset, epochs=5, steps_per_epoch=train_steps,\n",
    "                    validation_data=valid_dataset, validation_steps=valid_steps)"
   ]
  },
  {
   "cell_type": "code",
   "execution_count": 33,
   "metadata": {},
   "outputs": [
    {
     "data": {
      "text/plain": [
       "Text(0, 0.5, 'accuracy')"
      ]
     },
     "execution_count": 33,
     "metadata": {},
     "output_type": "execute_result"
    },
    {
     "data": {
      "image/png": "[encoded data removed]",
      "text/plain": [
       "<Figure size 432x288 with 2 Axes>"
      ]
     },
     "metadata": {
      "needs_background": "light"
     },
     "output_type": "display_data"
    }
   ],
   "source": [
    "import matplotlib.pyplot as plt\n",
    "# plot of training and validation loss\n",
    "fig, (ax1, ax2) = plt.subplots(1,2)\n",
    "\n",
    "ax1.plot(history.history['loss'],'r')\n",
    "ax1.plot(history.history['val_loss'],'b')\n",
    "ax1.set_xlabel('epoch')\n",
    "\n",
    "\n",
    "ax2.plot(history.history['val_accuracy'],'r')\n",
    "ax2.plot(history.history['accuracy'],'b')\n",
    "ax2.set_xlabel('epoch')\n",
    "ax2.set_ylabel('accuracy')"
   ]
  },
  {
   "cell_type": "code",
   "execution_count": 34,
   "metadata": {},
   "outputs": [
    {
     "name": "stdout",
     "output_type": "stream",
     "text": [
      "---0.21392035484313965 seconds---\n"
     ]
    }
   ],
   "source": [
    "import time\n",
    "start_time = time.time()\n",
    "test_dataset = glue_convert_examples_to_features(examples=test_clean_ds, tokenizer=tokenizer\n",
    "                                                  , max_length=512, task='sst-2'\n",
    "                                                  , label_list =['0', '1'])\n",
    "print(f\"---{time.time()-start_time} seconds---\")"
   ]
  },
  {
   "cell_type": "code",
   "execution_count": 35,
   "metadata": {},
   "outputs": [],
   "source": [
    "test_dataset = test_dataset.batch(EVAL_BATCH_SIZE)"
   ]
  },
  {
   "cell_type": "code",
   "execution_count": 36,
   "metadata": {},
   "outputs": [],
   "source": [
    "pred = model.predict(test_dataset)"
   ]
  },
  {
   "cell_type": "code",
   "execution_count": 37,
   "metadata": {},
   "outputs": [
    {
     "name": "stdout",
     "output_type": "stream",
     "text": [
      "5/5 [==============================] - 2s 481ms/step - loss: 0.4873 - accuracy: 0.4783\n"
     ]
    },
    {
     "data": {
      "text/plain": [
       "[0.48726770281791687, 0.47826087474823]"
      ]
     },
     "execution_count": 37,
     "metadata": {},
     "output_type": "execute_result"
    }
   ],
   "source": [
    "model.evaluate(test_dataset)"
   ]
  },
  {
   "cell_type": "code",
   "execution_count": 38,
   "metadata": {},
   "outputs": [],
   "source": [
    "from sklearn.metrics import classification_report, confusion_matrix\n",
    "import numpy as np"
   ]
  },
  {
   "cell_type": "code",
   "execution_count": 39,
   "metadata": {},
   "outputs": [
    {
     "name": "stdout",
     "output_type": "stream",
     "text": [
      "              precision    recall  f1-score   support\n",
      "\n",
      "           0       0.38      0.91      0.54        23\n",
      "           1       0.86      0.26      0.40        46\n",
      "\n",
      "    accuracy                           0.48        69\n",
      "   macro avg       0.62      0.59      0.47        69\n",
      "weighted avg       0.70      0.48      0.45        69\n",
      "\n"
     ]
    }
   ],
   "source": [
    "y_pred = np.argmax(pred[0], axis=1)\n",
    "print(classification_report(np.int64(test_csv[:,1]), y_pred,labels=[0,1]))"
   ]
  }
 ],
 "metadata": {
  "kernelspec": {
   "display_name": "Python 3",
   "language": "python",
   "name": "python3"
  },
  "language_info": {
   "codemirror_mode": {
    "name": "ipython",
    "version": 3
   },
   "file_extension": ".py",
   "mimetype": "text/x-python",
   "name": "python",
   "nbconvert_exporter": "python",
   "pygments_lexer": "ipython3",
   "version": "3.8.3"
  }
 },
 "nbformat": 4,
 "nbformat_minor": 4
}
